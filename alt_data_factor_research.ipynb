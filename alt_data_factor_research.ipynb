{
 "cells": [
  {
   "cell_type": "code",
   "execution_count": 5,
   "metadata": {
    "collapsed": true
   },
   "outputs": [
    {
     "name": "stdout",
     "output_type": "stream",
     "text": [
      "[0 1]\n",
      "[[0. 0.]\n",
      " [0. 1.]]\n"
     ]
    }
   ],
   "source": [
    "\"\"\"\n",
    "Further suppose that the dataset is ticker-tagged for 200 equities which respond to the dataset in roughly similar ways. Maybe the economic basis of the data is shared by all the equities, or maybe investor trading behavior on the data unites them.\n",
    "\n",
    "\"\"\"\n",
    "\n",
    "import numpy as np\n",
    "import pandas as pd\n",
    "\n",
    "# simulate the returns and signal\n",
    "r = 0 # avg return\n",
    "r_sig = 1 # avg return conditioned on signal\n",
    "sigma_alpha = 0.5 # alpha std dev\n",
    "sigma_beta = 0.3 # beta std dev\n",
    "rho = 0.4 # correlation between alpha and beta\n",
    "\n",
    "# Means\n",
    "Mu = np.array([r, r_sig])\n",
    "\n",
    "# covariance\n",
    "Cov = np.diag([r, r_sig]) @ np.array([1,rho,rho,1]).reshape(2,2) @ np.diag([r, r_sig])\n",
    "\n",
    "print(Mu)\n",
    "print(Cov)"
   ]
  },
  {
   "cell_type": "code",
   "execution_count": 6,
   "outputs": [
    {
     "name": "stdout",
     "output_type": "stream",
     "text": [
      "[[ 0.00000000e+00  7.82290068e-02]\n",
      " [ 0.00000000e+00  2.16399914e+00]\n",
      " [ 0.00000000e+00 -9.85230222e-01]\n",
      " [ 0.00000000e+00  1.73780706e+00]\n",
      " [ 0.00000000e+00  1.00098920e+00]\n",
      " [ 0.00000000e+00  5.66928230e-02]\n",
      " [ 0.00000000e+00  3.28128940e+00]\n",
      " [ 0.00000000e+00  3.25431330e-01]\n",
      " [ 0.00000000e+00  2.16688402e+00]\n",
      " [ 0.00000000e+00  1.56085277e+00]\n",
      " [ 0.00000000e+00  1.26504290e+00]\n",
      " [ 0.00000000e+00  9.71338559e-01]\n",
      " [ 0.00000000e+00  2.31209035e+00]\n",
      " [ 0.00000000e+00  1.83976096e+00]\n",
      " [ 0.00000000e+00  1.03828951e+00]\n",
      " [ 0.00000000e+00  9.95761801e-01]\n",
      " [ 0.00000000e+00  2.61205379e-01]\n",
      " [ 0.00000000e+00  1.38605227e+00]\n",
      " [ 0.00000000e+00  2.20804571e+00]\n",
      " [ 0.00000000e+00  1.06039108e+00]\n",
      " [ 0.00000000e+00  2.97494604e+00]\n",
      " [ 0.00000000e+00  2.11886785e+00]\n",
      " [ 0.00000000e+00  1.82823957e+00]\n",
      " [ 0.00000000e+00  2.78969486e-03]\n",
      " [ 0.00000000e+00 -6.61805786e-01]\n",
      " [ 0.00000000e+00  1.02921621e+00]\n",
      " [ 0.00000000e+00  1.98127379e+00]\n",
      " [ 0.00000000e+00 -7.76268737e-01]\n",
      " [ 0.00000000e+00  1.86120919e+00]\n",
      " [ 0.00000000e+00 -9.05775965e-01]\n",
      " [ 0.00000000e+00  2.39627523e+00]\n",
      " [ 0.00000000e+00  2.85385630e+00]\n",
      " [ 0.00000000e+00  3.57221866e-01]\n",
      " [ 0.00000000e+00  2.48893044e+00]\n",
      " [ 0.00000000e+00  9.25044334e-01]\n",
      " [ 0.00000000e+00  2.70241988e+00]\n",
      " [ 0.00000000e+00  2.23184131e+00]\n",
      " [ 0.00000000e+00  2.66810333e+00]\n",
      " [ 0.00000000e+00  1.57269652e+00]\n",
      " [ 0.00000000e+00  5.72171160e-01]\n",
      " [ 0.00000000e+00  8.33698400e-01]\n",
      " [ 0.00000000e+00  1.74350221e+00]\n",
      " [ 0.00000000e+00  4.65833158e-01]\n",
      " [ 0.00000000e+00  1.98583446e+00]\n",
      " [ 0.00000000e+00  8.92859195e-01]\n",
      " [ 0.00000000e+00 -1.32331532e-01]\n",
      " [ 0.00000000e+00  1.06155102e+00]\n",
      " [ 0.00000000e+00 -2.76552222e-01]\n",
      " [ 0.00000000e+00  1.41585875e+00]\n",
      " [ 0.00000000e+00  2.06429960e+00]\n",
      " [ 0.00000000e+00 -6.17452001e-01]\n",
      " [ 0.00000000e+00  1.62977228e+00]\n",
      " [ 0.00000000e+00 -5.03267407e-01]\n",
      " [ 0.00000000e+00  2.20213423e+00]\n",
      " [ 0.00000000e+00  1.16608075e+00]\n",
      " [ 0.00000000e+00  5.89403069e-01]\n",
      " [ 0.00000000e+00 -6.00610457e-02]\n",
      " [ 0.00000000e+00 -3.37817484e-01]\n",
      " [ 0.00000000e+00  8.17095327e-01]\n",
      " [ 0.00000000e+00  1.63843363e+00]\n",
      " [ 0.00000000e+00 -2.05529999e-01]\n",
      " [ 0.00000000e+00  1.45107554e+00]\n",
      " [ 0.00000000e+00 -1.22993520e-01]\n",
      " [ 0.00000000e+00  3.63529277e+00]\n",
      " [ 0.00000000e+00  2.35658387e+00]\n",
      " [ 0.00000000e+00  1.63126017e-02]\n",
      " [ 0.00000000e+00  7.15077992e-01]\n",
      " [ 0.00000000e+00 -2.68359311e-01]\n",
      " [ 0.00000000e+00  2.40544133e+00]\n",
      " [ 0.00000000e+00  1.23834373e+00]\n",
      " [ 0.00000000e+00  8.51850129e-01]\n",
      " [ 0.00000000e+00  3.67154329e-01]\n",
      " [ 0.00000000e+00 -1.13196014e-01]\n",
      " [ 0.00000000e+00 -3.71108840e-01]\n",
      " [ 0.00000000e+00  1.35938256e-01]\n",
      " [ 0.00000000e+00  1.87836215e+00]\n",
      " [ 0.00000000e+00  7.55952904e-01]\n",
      " [ 0.00000000e+00  4.74108830e-01]\n",
      " [ 0.00000000e+00 -1.82717219e-01]\n",
      " [ 0.00000000e+00  5.58250833e-01]\n",
      " [ 0.00000000e+00  2.79965705e+00]\n",
      " [ 0.00000000e+00 -1.22404414e+00]\n",
      " [ 0.00000000e+00  1.15660047e+00]\n",
      " [ 0.00000000e+00  9.69746802e-01]\n",
      " [ 0.00000000e+00  4.73198987e-01]\n",
      " [ 0.00000000e+00  2.72726080e+00]\n",
      " [ 0.00000000e+00  1.53582065e+00]\n",
      " [ 0.00000000e+00  1.75650485e+00]\n",
      " [ 0.00000000e+00 -1.92757422e-01]\n",
      " [ 0.00000000e+00  7.23174208e-01]\n",
      " [ 0.00000000e+00 -9.34055119e-02]\n",
      " [ 0.00000000e+00  1.89855208e+00]\n",
      " [ 0.00000000e+00  8.22978281e-01]\n",
      " [ 0.00000000e+00  2.29645061e+00]\n",
      " [ 0.00000000e+00 -1.05452534e-01]\n",
      " [ 0.00000000e+00  6.30332131e-01]\n",
      " [ 0.00000000e+00 -2.73626755e-01]\n",
      " [ 0.00000000e+00  2.06395881e+00]\n",
      " [ 0.00000000e+00  8.66167278e-01]\n",
      " [ 0.00000000e+00  2.90130246e-01]\n",
      " [ 0.00000000e+00  1.51407684e+00]\n",
      " [ 0.00000000e+00  1.73203842e+00]\n",
      " [ 0.00000000e+00 -5.87576454e-01]\n",
      " [ 0.00000000e+00  1.73673215e+00]\n",
      " [ 0.00000000e+00  2.32266849e-01]\n",
      " [ 0.00000000e+00 -5.22890394e-01]\n",
      " [ 0.00000000e+00 -1.67976917e-01]\n",
      " [ 0.00000000e+00  1.87549326e+00]\n",
      " [ 0.00000000e+00  9.57899713e-01]\n",
      " [ 0.00000000e+00  1.05162332e+00]\n",
      " [ 0.00000000e+00 -4.60763054e-01]\n",
      " [ 0.00000000e+00  2.31652553e+00]\n",
      " [ 0.00000000e+00  1.52099953e+00]\n",
      " [ 0.00000000e+00 -1.23730128e-01]\n",
      " [ 0.00000000e+00  1.79233078e+00]\n",
      " [ 0.00000000e+00  8.13174337e-01]\n",
      " [ 0.00000000e+00  1.22132591e+00]\n",
      " [ 0.00000000e+00  8.53345031e-02]\n",
      " [ 0.00000000e+00  2.04905903e+00]\n",
      " [ 0.00000000e+00  1.38449474e+00]\n",
      " [ 0.00000000e+00  7.77511098e-01]\n",
      " [ 0.00000000e+00  2.16089008e+00]\n",
      " [ 0.00000000e+00  5.73130958e-01]\n",
      " [ 0.00000000e+00  1.01567131e+00]\n",
      " [ 0.00000000e+00  2.99252315e+00]\n",
      " [ 0.00000000e+00  1.13536353e+00]\n",
      " [ 0.00000000e+00 -1.84195765e-02]\n",
      " [ 0.00000000e+00  4.74466042e-01]\n",
      " [ 0.00000000e+00  7.59724635e-01]\n",
      " [ 0.00000000e+00  1.73410333e+00]\n",
      " [ 0.00000000e+00  2.49441025e+00]\n",
      " [ 0.00000000e+00  7.41237672e-01]\n",
      " [ 0.00000000e+00  1.35768368e+00]\n",
      " [ 0.00000000e+00 -1.69415049e+00]\n",
      " [ 0.00000000e+00  1.18387369e+00]\n",
      " [ 0.00000000e+00  9.64330333e-01]\n",
      " [ 0.00000000e+00  3.21112502e-01]\n",
      " [ 0.00000000e+00  1.56792764e+00]\n",
      " [ 0.00000000e+00 -1.08459992e+00]\n",
      " [ 0.00000000e+00  2.56886783e+00]\n",
      " [ 0.00000000e+00 -2.75223420e-01]\n",
      " [ 0.00000000e+00  1.22699172e+00]\n",
      " [ 0.00000000e+00 -7.77560843e-02]\n",
      " [ 0.00000000e+00  1.39371357e+00]\n",
      " [ 0.00000000e+00  4.38772355e-02]\n",
      " [ 0.00000000e+00  6.79801404e-01]\n",
      " [ 0.00000000e+00  4.97419709e-01]\n",
      " [ 0.00000000e+00  8.00855103e-01]\n",
      " [ 0.00000000e+00  9.02059471e-02]\n",
      " [ 0.00000000e+00  5.99274832e-02]\n",
      " [ 0.00000000e+00 -5.19530307e-01]\n",
      " [ 0.00000000e+00  1.83452812e+00]\n",
      " [ 0.00000000e+00  3.75258803e-01]\n",
      " [ 0.00000000e+00  1.78924804e+00]\n",
      " [ 0.00000000e+00  7.51237771e-01]\n",
      " [ 0.00000000e+00  6.95029691e-01]\n",
      " [ 0.00000000e+00 -1.01893960e+00]\n",
      " [ 0.00000000e+00  1.20392193e+00]\n",
      " [ 0.00000000e+00 -2.22280394e-01]\n",
      " [ 0.00000000e+00  9.87100470e-01]\n",
      " [ 0.00000000e+00  2.00621681e+00]\n",
      " [ 0.00000000e+00  2.95236794e-01]\n",
      " [ 0.00000000e+00  2.72674498e-01]\n",
      " [ 0.00000000e+00  3.24727353e+00]\n",
      " [ 0.00000000e+00  4.99501516e-01]\n",
      " [ 0.00000000e+00  2.27639140e+00]\n",
      " [ 0.00000000e+00  1.50504843e+00]\n",
      " [ 0.00000000e+00  7.77530877e-01]\n",
      " [ 0.00000000e+00  2.14760946e+00]\n",
      " [ 0.00000000e+00  9.75822458e-01]\n",
      " [ 0.00000000e+00  1.43646998e+00]\n",
      " [ 0.00000000e+00  1.29828879e-01]\n",
      " [ 0.00000000e+00 -1.59093930e+00]\n",
      " [ 0.00000000e+00  6.04563920e-01]\n",
      " [ 0.00000000e+00  9.14329544e-01]\n",
      " [ 0.00000000e+00  8.99089979e-01]\n",
      " [ 0.00000000e+00  8.22714778e-01]\n",
      " [ 0.00000000e+00  1.10394355e+00]\n",
      " [ 0.00000000e+00  6.28380809e-01]\n",
      " [ 0.00000000e+00  8.78832852e-01]\n",
      " [ 0.00000000e+00  1.69344309e+00]\n",
      " [ 0.00000000e+00  2.29879316e+00]\n",
      " [ 0.00000000e+00  8.51976939e-01]\n",
      " [ 0.00000000e+00  4.29491920e+00]\n",
      " [ 0.00000000e+00  5.38334520e-01]\n",
      " [ 0.00000000e+00  5.66306908e-01]\n",
      " [ 0.00000000e+00  1.08183031e+00]\n",
      " [ 0.00000000e+00  2.89086709e+00]\n",
      " [ 0.00000000e+00  1.47428272e+00]\n",
      " [ 0.00000000e+00  3.00408917e+00]\n",
      " [ 0.00000000e+00  3.97384985e+00]\n",
      " [ 0.00000000e+00  2.99201335e+00]\n",
      " [ 0.00000000e+00  1.08475917e+00]\n",
      " [ 0.00000000e+00  2.31576902e+00]\n",
      " [ 0.00000000e+00  1.06618857e+00]\n",
      " [ 0.00000000e+00  2.43622163e+00]\n",
      " [ 0.00000000e+00  2.42587813e-01]\n",
      " [ 0.00000000e+00  1.14601634e+00]\n",
      " [ 0.00000000e+00  6.24465460e-01]\n",
      " [ 0.00000000e+00  6.16459869e-01]]\n"
     ]
    }
   ],
   "source": [
    "\"\"\"\n",
    "More formally we can say the alt dataset comprises an explanatory factor portfolio, and the equity returns have betas to that factor. That implies a covariance structure between the equities we can exploit for superior signal construction. So we continue simulating this data...\n",
    "\"\"\"\n",
    "\n",
    "# generate population equity data\n",
    "m_symbols = 200\n",
    "\n",
    "np.random.seed(60)\n",
    "mvr = np.random.multivariate_normal(Mu, Cov, m_symbols)\n",
    "\n",
    "alpha_ret = mvr[:,0]\n",
    "beta_ret = mvr[:,1]\n",
    "\n",
    "print(mvr)"
   ],
   "metadata": {
    "collapsed": false
   }
  },
  {
   "cell_type": "code",
   "execution_count": 32,
   "outputs": [
    {
     "data": {
      "text/plain": "      symbol     event       ret\n0          1  0.379099  0.756684\n1          1  0.567098  0.179317\n2          1  0.595593  0.153995\n3          1  0.449859  0.289180\n4          1  0.457020  0.542984\n...      ...       ...       ...\n9995     200  0.283286 -0.565858\n9996     200  0.727756  0.203937\n9997     200  0.894205  0.410976\n9998     200  0.476636  0.578224\n9999     200  0.788717  0.832393\n\n[10000 rows x 3 columns]",
      "text/html": "<div>\n<style scoped>\n    .dataframe tbody tr th:only-of-type {\n        vertical-align: middle;\n    }\n\n    .dataframe tbody tr th {\n        vertical-align: top;\n    }\n\n    .dataframe thead th {\n        text-align: right;\n    }\n</style>\n<table border=\"1\" class=\"dataframe\">\n  <thead>\n    <tr style=\"text-align: right;\">\n      <th></th>\n      <th>symbol</th>\n      <th>event</th>\n      <th>ret</th>\n    </tr>\n  </thead>\n  <tbody>\n    <tr>\n      <th>0</th>\n      <td>1</td>\n      <td>0.379099</td>\n      <td>0.756684</td>\n    </tr>\n    <tr>\n      <th>1</th>\n      <td>1</td>\n      <td>0.567098</td>\n      <td>0.179317</td>\n    </tr>\n    <tr>\n      <th>2</th>\n      <td>1</td>\n      <td>0.595593</td>\n      <td>0.153995</td>\n    </tr>\n    <tr>\n      <th>3</th>\n      <td>1</td>\n      <td>0.449859</td>\n      <td>0.289180</td>\n    </tr>\n    <tr>\n      <th>4</th>\n      <td>1</td>\n      <td>0.457020</td>\n      <td>0.542984</td>\n    </tr>\n    <tr>\n      <th>...</th>\n      <td>...</td>\n      <td>...</td>\n      <td>...</td>\n    </tr>\n    <tr>\n      <th>9995</th>\n      <td>200</td>\n      <td>0.283286</td>\n      <td>-0.565858</td>\n    </tr>\n    <tr>\n      <th>9996</th>\n      <td>200</td>\n      <td>0.727756</td>\n      <td>0.203937</td>\n    </tr>\n    <tr>\n      <th>9997</th>\n      <td>200</td>\n      <td>0.894205</td>\n      <td>0.410976</td>\n    </tr>\n    <tr>\n      <th>9998</th>\n      <td>200</td>\n      <td>0.476636</td>\n      <td>0.578224</td>\n    </tr>\n    <tr>\n      <th>9999</th>\n      <td>200</td>\n      <td>0.788717</td>\n      <td>0.832393</td>\n    </tr>\n  </tbody>\n</table>\n<p>10000 rows × 3 columns</p>\n</div>"
     },
     "execution_count": 32,
     "metadata": {},
     "output_type": "execute_result"
    }
   ],
   "source": [
    "# simulate 50 return samples for each symbol - train set\n",
    "\n",
    "np.random.seed(64)\n",
    "n_samples = 50\n",
    "\n",
    "event = np.random.uniform(0,1, int(n_samples * m_symbols))\n",
    "sym_id = np.repeat(list(range(1, m_symbols + 1)), n_samples)\n",
    "mu = alpha_ret[sym_id - 1] + beta_ret[sym_id - 1] * event\n",
    "sigma = 0.5\n",
    "\n",
    "ret = np.random.normal(mu, sigma, m_symbols * n_samples)\n",
    "train_df = pd.DataFrame({'symbol': sym_id, 'event':event, 'ret': ret})\n",
    "train_df"
   ],
   "metadata": {
    "collapsed": false
   }
  },
  {
   "cell_type": "code",
   "execution_count": 9,
   "outputs": [
    {
     "data": {
      "text/plain": "      symbol     event       ret\n0          1  0.858889 -0.367231\n1          1  0.372711  0.050432\n2          1  0.555129 -0.700390\n3          1  0.955657 -0.065072\n4          1  0.736670  1.001676\n...      ...       ...       ...\n3995     200  0.609586  0.508781\n3996     200  0.275635  0.239987\n3997     200  0.103813  0.471563\n3998     200  0.885118  0.538072\n3999     200  0.448462  0.604211\n\n[4000 rows x 3 columns]",
      "text/html": "<div>\n<style scoped>\n    .dataframe tbody tr th:only-of-type {\n        vertical-align: middle;\n    }\n\n    .dataframe tbody tr th {\n        vertical-align: top;\n    }\n\n    .dataframe thead th {\n        text-align: right;\n    }\n</style>\n<table border=\"1\" class=\"dataframe\">\n  <thead>\n    <tr style=\"text-align: right;\">\n      <th></th>\n      <th>symbol</th>\n      <th>event</th>\n      <th>ret</th>\n    </tr>\n  </thead>\n  <tbody>\n    <tr>\n      <th>0</th>\n      <td>1</td>\n      <td>0.858889</td>\n      <td>-0.367231</td>\n    </tr>\n    <tr>\n      <th>1</th>\n      <td>1</td>\n      <td>0.372711</td>\n      <td>0.050432</td>\n    </tr>\n    <tr>\n      <th>2</th>\n      <td>1</td>\n      <td>0.555129</td>\n      <td>-0.700390</td>\n    </tr>\n    <tr>\n      <th>3</th>\n      <td>1</td>\n      <td>0.955657</td>\n      <td>-0.065072</td>\n    </tr>\n    <tr>\n      <th>4</th>\n      <td>1</td>\n      <td>0.736670</td>\n      <td>1.001676</td>\n    </tr>\n    <tr>\n      <th>...</th>\n      <td>...</td>\n      <td>...</td>\n      <td>...</td>\n    </tr>\n    <tr>\n      <th>3995</th>\n      <td>200</td>\n      <td>0.609586</td>\n      <td>0.508781</td>\n    </tr>\n    <tr>\n      <th>3996</th>\n      <td>200</td>\n      <td>0.275635</td>\n      <td>0.239987</td>\n    </tr>\n    <tr>\n      <th>3997</th>\n      <td>200</td>\n      <td>0.103813</td>\n      <td>0.471563</td>\n    </tr>\n    <tr>\n      <th>3998</th>\n      <td>200</td>\n      <td>0.885118</td>\n      <td>0.538072</td>\n    </tr>\n    <tr>\n      <th>3999</th>\n      <td>200</td>\n      <td>0.448462</td>\n      <td>0.604211</td>\n    </tr>\n  </tbody>\n</table>\n<p>4000 rows × 3 columns</p>\n</div>"
     },
     "execution_count": 9,
     "metadata": {},
     "output_type": "execute_result"
    }
   ],
   "source": [
    "\"\"\"\n",
    "Now we have a train set and a test set. First let's try fitting an OLS model to each equity based on only its sample of the data, individually. We'll estimate the model on the train set, then evaluate it via MSE on the test set (MSE chosen over MAE to penalize very high errors).\n",
    "\"\"\"\n",
    "\n",
    "# simulate 20 return samples for each symbol - test set\n",
    "\n",
    "np.random.seed(32)\n",
    "n_samples = 20\n",
    "\n",
    "event = np.random.uniform(0,1, int(n_samples * m_symbols))\n",
    "sym_id = np.repeat(list(range(1, m_symbols + 1)), n_samples)\n",
    "mu = alpha_ret[sym_id - 1] + beta_ret[sym_id - 1] * event\n",
    "sigma = 0.5\n",
    "\n",
    "ret = np.random.normal(mu, sigma, m_symbols * n_samples)\n",
    "test_df = pd.DataFrame({'symbol': sym_id, 'event':event, 'ret': ret})\n",
    "test_df"
   ],
   "metadata": {
    "collapsed": false
   }
  },
  {
   "cell_type": "code",
   "execution_count": 10,
   "outputs": [
    {
     "data": {
      "text/plain": "0.6045999327511623"
     },
     "execution_count": 10,
     "metadata": {},
     "output_type": "execute_result"
    }
   ],
   "source": [
    "\"\"\"\n",
    "We evaluate the per-symbol models (\"no pooling\") and average their MSEs, then evaluate out of sample on the entire dataset (\"complete pooling\"). Per-symbol the average MSE is ~0.604, total is 1.21. Can we do better than this? Let's try estimating the model with complete pooling.\n",
    "\"\"\"\n",
    "\n",
    "import statsmodels.api as sm\n",
    "\n",
    "symbol_mse = []\n",
    "total_y = []\n",
    "total_y_hat = []\n",
    "rsq = []\n",
    "pval = []\n",
    "\n",
    "for symbol in train_df['symbol'].drop_duplicates().to_list():\n",
    "    train_data = train_df.loc[train_df['symbol'] == symbol][['event', 'ret']].to_numpy()\n",
    "    y = train_data.T[1].reshape(-1,1)\n",
    "    X = sm.add_constant(train_data.T[0])\n",
    "    model = sm.OLS(y, X).fit()\n",
    "    rsq.append(model.rsquared)\n",
    "    pval.append(model.pvalues)\n",
    "\n",
    "    # evaluate the model via MSE\n",
    "    test_data = test_df.loc[test_df['symbol'] == symbol][['event', 'ret']].to_numpy()\n",
    "    y = test_data.T[1].reshape(-1,1)\n",
    "    X = sm.add_constant(test_data.T[0])\n",
    "\n",
    "    y_hat = model.predict(exog=X)\n",
    "\n",
    "    mse = np.square(y - y_hat).mean()\n",
    "    total_y += [k for k in y]\n",
    "    total_y_hat += [k for k in y_hat]\n",
    "    symbol_mse.append(mse)\n",
    "\n",
    "# measure avg of MSE across per-symbol models\n",
    "np.mean(symbol_mse)\n"
   ],
   "metadata": {
    "collapsed": false
   }
  },
  {
   "cell_type": "code",
   "execution_count": 11,
   "outputs": [
    {
     "data": {
      "text/plain": "1.2134402679058207"
     },
     "execution_count": 11,
     "metadata": {},
     "output_type": "execute_result"
    }
   ],
   "source": [
    "# also measure MSE across entire dataset - no pooling performs much worse on entire dataset than per-symbol\n",
    "\n",
    "np.square(np.array(total_y) - np.array(total_y_hat)).mean()"
   ],
   "metadata": {
    "collapsed": false
   }
  },
  {
   "cell_type": "code",
   "execution_count": 12,
   "outputs": [
    {
     "name": "stdout",
     "output_type": "stream",
     "text": [
      "                            OLS Regression Results                            \n",
      "==============================================================================\n",
      "Dep. Variable:                      y   R-squared:                       0.125\n",
      "Model:                            OLS   Adj. R-squared:                  0.125\n",
      "Method:                 Least Squares   F-statistic:                     1425.\n",
      "Date:                Thu, 13 Jun 2024   Prob (F-statistic):          1.22e-291\n",
      "Time:                        13:56:41   Log-Likelihood:                -11933.\n",
      "No. Observations:               10000   AIC:                         2.387e+04\n",
      "Df Residuals:                    9998   BIC:                         2.389e+04\n",
      "Df Model:                           1                                         \n",
      "Covariance Type:            nonrobust                                         \n",
      "==============================================================================\n",
      "                 coef    std err          t      P>|t|      [0.025      0.975]\n",
      "------------------------------------------------------------------------------\n",
      "const         -0.0077      0.016     -0.485      0.628      -0.039       0.024\n",
      "x1             1.0470      0.028     37.749      0.000       0.993       1.101\n",
      "==============================================================================\n",
      "Omnibus:                      185.057   Durbin-Watson:                   1.129\n",
      "Prob(Omnibus):                  0.000   Jarque-Bera (JB):              317.424\n",
      "Skew:                           0.154   Prob(JB):                     1.18e-69\n",
      "Kurtosis:                       3.817   Cond. No.                         4.39\n",
      "==============================================================================\n",
      "\n",
      "Notes:\n",
      "[1] Standard Errors assume that the covariance matrix of the errors is correctly specified.\n"
     ]
    }
   ],
   "source": [
    "\"\"\"\n",
    "The model estimates the alt dataset's signal across the entire sample of equities without any conditioning on equities. MSEs on a per-symbol basis are worse than before, but the total dataset MSE has improved. Can we do better than this?\n",
    "\"\"\"\n",
    "\n",
    "pooled_mse = []\n",
    "\n",
    "train_data = train_df[['event', 'ret']].to_numpy()\n",
    "y = train_data.T[1].reshape(-1,1)\n",
    "X = sm.add_constant(train_data.T[0])\n",
    "model = sm.OLS(y, X).fit()\n",
    "print(model.summary())"
   ],
   "metadata": {
    "collapsed": false
   }
  },
  {
   "cell_type": "code",
   "execution_count": 13,
   "outputs": [
    {
     "data": {
      "text/plain": "0.7995235612194488"
     },
     "execution_count": 13,
     "metadata": {},
     "output_type": "execute_result"
    }
   ],
   "source": [
    "for symbol in train_df['symbol'].drop_duplicates().to_list():\n",
    "    # evaluate the model via MSE\n",
    "\n",
    "    test_data = test_df.loc[test_df['symbol'] == symbol][['event', 'ret']].to_numpy()\n",
    "    y = test_data.T[1].reshape(-1,1)\n",
    "    X = sm.add_constant(test_data.T[0])\n",
    "\n",
    "    #y_hat = X @ model.params.T\n",
    "    y_hat = model.predict(exog=X)\n",
    "\n",
    "    mse = np.square(y - y_hat).mean()\n",
    "    pooled_mse.append(mse)\n",
    "\n",
    "np.mean(pooled_mse)"
   ],
   "metadata": {
    "collapsed": false
   }
  },
  {
   "cell_type": "code",
   "execution_count": 14,
   "outputs": [
    {
     "data": {
      "text/plain": "0.46133958908871653"
     },
     "execution_count": 14,
     "metadata": {},
     "output_type": "execute_result"
    }
   ],
   "source": [
    "# also measure MSE across entire dataset - total pooling performs much better on entire dataset than per-symbol\n",
    "\n",
    "X = sm.add_constant(test_df['event'].to_numpy())\n",
    "y_hat = model.predict(X)\n",
    "np.square(y-y_hat).mean()"
   ],
   "metadata": {
    "collapsed": false
   }
  },
  {
   "cell_type": "code",
   "execution_count": 15,
   "outputs": [
    {
     "name": "stderr",
     "output_type": "stream",
     "text": [
      "C:\\Users\\alec\\AppData\\Local\\Temp\\ipykernel_29560\\688415733.py:11: FutureWarning: Series.__getitem__ treating keys as positions is deprecated. In a future version, integer keys will always be treated as labels (consistent with DataFrame behavior). To access a value by position, use `ser.iloc[pos]`\n",
      "  re = {symbol: md.random_effects[symbol][0] for symbol in md.random_effects}\n"
     ]
    },
    {
     "data": {
      "text/plain": "0.3465367586251309"
     },
     "execution_count": 15,
     "metadata": {},
     "output_type": "execute_result"
    }
   ],
   "source": [
    "\"\"\"\n",
    "In fact, we can fit a multilevel regression model instead. The \"fixed effects\" have an interpretation as the completely pooled regression coefficient, and the \"random effects\" are per-symbol deviations. To make a per-symbol prediction, we sum the effects. The MSEs improve.\n",
    "\"\"\"\n",
    "\n",
    "import statsmodels.formula.api as smf\n",
    "\n",
    "# build mixed effects model - partial pooling on symbols\n",
    "\n",
    "model = smf.mixedlm('ret ~ event', train_df, groups=train_df['symbol'])\n",
    "md = model.fit()\n",
    "re = {symbol: md.random_effects[symbol][0] for symbol in md.random_effects}\n",
    "test_df['fe'] = md.predict(exog=test_df)\n",
    "test_df['re'] = test_df['symbol'].map(re)\n",
    "test_df['ret_hat'] = test_df['fe'] + test_df['re']\n",
    "\n",
    "# evaluate the model per-symbol - it outperforms both the unpooled and completely pooled versions\n",
    "\n",
    "mse = []\n",
    "\n",
    "for symbol in test_df['symbol'].drop_duplicates().to_list():\n",
    "    test_data = test_df.loc[test_df['symbol'] == symbol]\n",
    "    sym_mse = np.square(test_data['ret'] - test_data['ret_hat']).mean()\n",
    "    mse.append(sym_mse)\n",
    "\n",
    "np.mean(mse)"
   ],
   "metadata": {
    "collapsed": false
   }
  },
  {
   "cell_type": "code",
   "execution_count": 16,
   "outputs": [
    {
     "data": {
      "text/plain": "0.3465367586251309"
     },
     "execution_count": 16,
     "metadata": {},
     "output_type": "execute_result"
    }
   ],
   "source": [
    "# evaluate the MSE across the entire dataset - it outperforms both the unpooled and completely pooled versions\n",
    "\n",
    "me_mse = np.square(test_df['ret'] - test_df['ret_hat']).mean()\n",
    "me_mse"
   ],
   "metadata": {
    "collapsed": false
   }
  },
  {
   "cell_type": "code",
   "execution_count": 35,
   "outputs": [
    {
     "name": "stderr",
     "output_type": "stream",
     "text": [
      "C:\\Users\\alec\\AppData\\Local\\Temp\\ipykernel_29560\\3888312325.py:18: DeprecationWarning: DataFrameGroupBy.apply operated on the grouping columns. This behavior is deprecated, and in a future version of pandas the grouping columns will be excluded from the operation. Either pass `include_groups=False` to exclude the groupings or explicitly select the grouping columns after groupby to silence this warning.\n",
      "  train_df = train_df.groupby('symbol', group_keys=False).apply(classify_decile)\n"
     ]
    },
    {
     "data": {
      "text/plain": "symbol\n1       0.813416\n2      10.827506\n3      -5.687411\n4       9.846481\n5       5.026724\n         ...    \n196    11.671410\n197     1.697227\n198     1.975334\n199    -0.024482\n200     0.902371\nName: strategy_ret, Length: 200, dtype: float64"
     },
     "execution_count": 35,
     "metadata": {},
     "output_type": "execute_result"
    }
   ],
   "source": [
    "\"\"\"\n",
    "Aside from improved out-of-sample accuracy, this comes with an elegant basis for portfolio construction. The random effects have a natural interpretation as the relative out (under) performance of each symbol, neutral to the group/cluster on which the model was estimated.\n",
    "\n",
    "So for each alt dataset with which this modeling approach works, you can simple sort by random effects in each group, long the top decile of random effects, short the bottom decile of random effects, and hedge the remainder to trade a neutral basket.\n",
    "\"\"\"\n",
    "\n",
    "import quantstats as qs\n",
    "\n",
    "# Sort within each symbol group by random effects\n",
    "train_df = train_df.sort_values(by=['event'])\n",
    "\n",
    "# Define function to classify deciles\n",
    "def classify_decile(group):\n",
    "    group['decile'] = pd.qcut(group['event'], 10, labels=False)\n",
    "    return group\n",
    "\n",
    "# Apply the function to the DataFrame\n",
    "train_df = train_df.groupby('symbol', group_keys=False).apply(classify_decile)\n",
    "\n",
    "# Create long and short positions\n",
    "train_df['position'] = 0\n",
    "train_df.loc[train_df['decile'] == 9, 'position'] = 1  # Long top decile\n",
    "train_df.loc[train_df['decile'] == 0, 'position'] = -1  # Short bottom decile\n",
    "\n",
    "# Hedge the remainder to trade a neutral basket\n",
    "train_df['hedged_position'] = train_df.groupby('symbol')['position'].transform(lambda x: x - x.mean())\n",
    "\n",
    "# Calculate the strategy returns\n",
    "train_df['strategy_ret'] = train_df['hedged_position'] * train_df['ret']\n",
    "\n",
    "# Aggregate strategy returns\n",
    "strategy_returns = train_df.groupby('symbol')['strategy_ret'].sum()\n",
    "\n",
    "# Convert to cumulative returns for QuantStats analysis\n",
    "strategy_returns"
   ],
   "metadata": {
    "collapsed": false
   }
  },
  {
   "cell_type": "code",
   "execution_count": 36,
   "outputs": [
    {
     "data": {
      "text/plain": "<Axes: xlabel='symbol'>"
     },
     "execution_count": 36,
     "metadata": {},
     "output_type": "execute_result"
    },
    {
     "data": {
      "text/plain": "<Figure size 1000x600 with 1 Axes>",
      "image/png": "[encoded data removed]"
     },
     "metadata": {},
     "output_type": "display_data"
    }
   ],
   "source": [
    "strategy_returns.plot()"
   ],
   "metadata": {
    "collapsed": false
   }
  },
  {
   "cell_type": "code",
   "execution_count": null,
   "outputs": [],
   "source": [],
   "metadata": {
    "collapsed": false
   }
  }
 ],
 "metadata": {
  "kernelspec": {
   "display_name": "Python 3",
   "language": "python",
   "name": "python3"
  },
  "language_info": {
   "codemirror_mode": {
    "name": "ipython",
    "version": 2
   },
   "file_extension": ".py",
   "mimetype": "text/x-python",
   "name": "python",
   "nbconvert_exporter": "python",
   "pygments_lexer": "ipython2",
   "version": "2.7.6"
  }
 },
 "nbformat": 4,
 "nbformat_minor": 0
}
